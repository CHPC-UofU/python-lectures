{
 "cells": [
  {
   "cell_type": "markdown",
   "metadata": {
    "slideshow": {
     "slide_type": "slide"
    }
   },
   "source": [
    "# Hands-on Intro to Python\n",
    "Presented by Brett Milash, brett.milash@utah.edu"
   ]
  },
  {
   "cell_type": "code",
   "execution_count": null,
   "metadata": {
    "scrolled": true
   },
   "outputs": [],
   "source": [
    "def hands_on_intro_to_python():\n",
    "    \"\"\"\n",
    "    This is a hands-on introduction to python.\n",
    "    Your instuctors are Brett Milash and Wim Cardoen of the CHPC.\n",
    "    You can run this code by typing Shift+Return \n",
    "    \"\"\"\n",
    "    import sys\n",
    "    print(f\"We will use python version {sys.version_info.major}.{sys.version_info.minor}\")\n",
    "\n",
    "\n",
    "hands_on_intro_to_python()\n",
    "help(hands_on_intro_to_python)"
   ]
  },
  {
   "cell_type": "markdown",
   "metadata": {
    "slideshow": {
     "slide_type": "slide"
    }
   },
   "source": [
    "## Characteristics of the language\n",
    "* Interpreted\n",
    "* Object-oriented\n",
    "  * Data and functions (called \"methods\") are packaged together into objects\n",
    "  * An object's methods are used to manipulate that object's data\n",
    "  * Objects are organized into \"classes\", which define the objects' methods & data\n",
    "  * \"Inheritance\" makes it easy to create new classes from existing ones\n",
    "  * Great way to organize your code (and your thinking!)\n",
    "* Leading white space (indentation) is significant\n",
    "  * Level of indentation defines \"blocks\" of code\n",
    "  * Either tabs OR spaces - choose one or the other!"
   ]
  },
  {
   "cell_type": "markdown",
   "metadata": {
    "slideshow": {
     "slide_type": "slide"
    }
   },
   "source": [
    "## Running python code\n",
    "* Interactively (typing python statements at the interpreter)\n",
    "* In a script\n",
    "    * Run the interpreter with your script as an argument: \"python scriptname.py ...\"\n",
    "    * As an executable script: \"#!/usr/bin/env python\"\n",
    "* In a cell in a jupyter notebook (when you type Shift+Return or Shift+Enter)"
   ]
  },
  {
   "cell_type": "code",
   "execution_count": null,
   "metadata": {},
   "outputs": [],
   "source": [
    "# This is a comment - it doesn't get executed when you type Shift+Return.\n",
    "import math\n",
    "radius = 1.0\n",
    "area = math.pi * radius * radius\n",
    "print(f\"The area of a circle with radius {radius} is {area}.\")\n",
    "# Try changing the radius and re-running the code."
   ]
  },
  {
   "cell_type": "markdown",
   "metadata": {
    "slideshow": {
     "slide_type": "slide"
    }
   },
   "source": [
    "## Jupyter Notebook Basics:\n",
    "\n",
    "* Started as IPython Notebook (i.e. Python Project)\n",
    "* Has a <font color=\"green\"><b>modal</b></font> user interface.<br>\n",
    "  It means that <font color=\"blue\">*depending on the mode*</font>,\n",
    "  the keyboard operates in 2 different ways."
   ]
  },
  {
   "cell_type": "markdown",
   "metadata": {
    "slideshow": {
     "slide_type": "subslide"
    }
   },
   "source": [
    "* **<font color=\"blue\">Command Mode</font>**:\n",
    "    * Blue bar on side of cell\n",
    "    * Gray in cell\n",
    "* **<font color=\"green\">Edit mode</font>**: \n",
    "    * Green bar on side of cell\n",
    "    * Prompt in cell\n",
    "    * Pencil on top right\n",
    "\n",
    "\n",
    "* To enter **<font color=\"blue\">Command Mode</font>**, press the **<font color=\"blue\">ESC</font>** button or click with mouse outside cell\n",
    "* To enter **<font color=\"green\">Edit Mode</font>**, press **<font color=\"green\">ENTER</font>** or click within mouse inside cell\n",
    "* To execute cells: (SHIFT + ENTER)\n",
    "* TAB completion  (<b><font color=\"red\">Extremely useful!!</font></b>)"
   ]
  },
  {
   "cell_type": "markdown",
   "metadata": {
    "slideshow": {
     "slide_type": "subslide"
    }
   },
   "source": [
    "## Command Mode Shortcuts:\n",
    "* Navigation (like Vi)  \n",
    "  * j: down (select cell below) \n",
    "  * k: up (select cell above)\n",
    "* Save Notebook: s \n",
    "* Cell creation:\n",
    "  * a: above\n",
    "  * b: below   \n",
    "* Change Cell Type:\n",
    "  * m: markdown\n",
    "  * y: code\n",
    "  * r: raw (unformatted text)"
   ]
  },
  {
   "cell_type": "markdown",
   "metadata": {
    "slideshow": {
     "slide_type": "subslide"
    }
   },
   "source": [
    "## More Command Mode Shortcuts:\n",
    "* Cell editing:\n",
    "  * c: copy selected cell\n",
    "  * x: cut selected cell\n",
    "  * v: paste to cell below\n",
    "  * z: undelete cell\n",
    "  * dd: delete selected cell\n",
    "  * 1,2,...6: Select cell header (size)\n",
    "\n",
    "    \n",
    "(see also Help Button)"
   ]
  },
  {
   "cell_type": "markdown",
   "metadata": {
    "slideshow": {
     "slide_type": "slide"
    }
   },
   "source": [
    "## Big Concepts in Python\n",
    "* Variables - these hold one or more data values or objects\n",
    "* Statements (and operators) - these do stuff, they are the verbs of the language\n",
    "* Functions - these are reusable blocks of code\n",
    "* Classes - these define all the different types of objects: their data, methods, etc.\n",
    "* Modules - entire files of python code, containing variables, functions, and classes"
   ]
  },
  {
   "cell_type": "markdown",
   "metadata": {
    "slideshow": {
     "slide_type": "slide"
    }
   },
   "source": [
    "## Variables\n",
    "* Simple values\n",
    "  * Numbers (integers, real numbers, complex numbers)\n",
    "  * Character strings\n",
    "  * Boolean values (True, False)\n",
    "  * Individual objects (ie a single instance of a class)\n",
    "  * None (the empty/unknown value)\n",
    "* Compound values\n",
    "  * Lists\n",
    "  * Dictionaries\n",
    "  * Sets\n",
    "  * Tuples"
   ]
  },
  {
   "cell_type": "markdown",
   "metadata": {
    "slideshow": {
     "slide_type": "slide"
    }
   },
   "source": [
    "## Create some simple variables"
   ]
  },
  {
   "cell_type": "code",
   "execution_count": null,
   "metadata": {
    "scrolled": true
   },
   "outputs": [],
   "source": [
    "# Lets define some variables using the assignment operator \"=\", print their values and types.\n",
    "x=1\n",
    "y=\"Here is a character string\"\n",
    "# What is the type of data assigned to x and y?\n",
    "print(\"The value of x is\", x, \"and its type is\", type(x))\n",
    "# Lets print the value and type of y, using an f-string.\n",
    "print(f\"The value of y is '{y}' and its type is {type(y)}\")\n",
    "\n",
    "# Now assign the value \"hello world\" to x. What is the type of x now?\n",
    "x=\"hello world\"\n",
    "print(\"The type of x is\", type(x))\n",
    "# Assign the value of True or False to a variable. What type is that variable?\n",
    "z=True\n",
    "print(\"The type of z is\", type(z))"
   ]
  },
  {
   "cell_type": "markdown",
   "metadata": {},
   "source": [
    "Notice how the type of value assigned to x has changed - python is a **dynamically typed** language."
   ]
  },
  {
   "cell_type": "markdown",
   "metadata": {
    "slideshow": {
     "slide_type": "slide"
    }
   },
   "source": [
    "# Now its your turn\n",
    "In the cell below create the variables \"name\" and \"age\", assign your name to \"name\", and your age to \"age\". Then print them using the print() function to produce the output, \"My name is _______ and I am _______ years old.\" You can either separate the arguments to print() with commas, or you can use a f-string."
   ]
  },
  {
   "cell_type": "code",
   "execution_count": null,
   "metadata": {},
   "outputs": [],
   "source": []
  },
  {
   "cell_type": "markdown",
   "metadata": {
    "slideshow": {
     "slide_type": "slide"
    }
   },
   "source": [
    "## Operators\n",
    "\n",
    "Python has all the operators you typically find in a programming language.\n",
    "\n",
    "* Assignment operator: =\n",
    "* Arithmetic operators: +, -, \\*, /, +=, -=, \\*=, /=, \\*\\* (exponentiation), % (modulo), // (floor division)\n",
    "* Comparison operators: ==, !=, <, >, <=, >=\n",
    "* Logical operators: and, or, not\n",
    "* Bitwise operators: << (left shift), >> (right shift), | (bitwise or), & (bitwise and), ^ (complement)\n",
    "* Identity / membership operators: is, in\n",
    "\n",
    "More on operators here: https://docs.python.org/3/library/stdtypes.html#"
   ]
  },
  {
   "cell_type": "markdown",
   "metadata": {
    "slideshow": {
     "slide_type": "slide"
    }
   },
   "source": [
    "## Strings\n",
    "\n",
    "* A string is a sequence of characters enclosed in single quotes or double quotes\n",
    "* \"Short\" strings fit onto one line, like \"here is a string\"\n",
    "* \"Long\" strings don't fit on one line, and are enclosed in \"triple\" quotes."
   ]
  },
  {
   "cell_type": "code",
   "execution_count": null,
   "metadata": {},
   "outputs": [],
   "source": [
    "s1 = 'Here is a short string.'\n",
    "s2 = \"Here's another short string. Note it contains a single quote.\"\n",
    "s3 = \"\"\"This is a long string.\n",
    "It's content includes multiple lines of text.\"\"\"\n",
    "print(s1 + s2)\n",
    "print(s3)"
   ]
  },
  {
   "cell_type": "code",
   "execution_count": null,
   "metadata": {},
   "outputs": [],
   "source": [
    "# f-strings are an easy way to format text.\n",
    "version_number = 3.6\n",
    "s4 = f\"F-strings are great for formatting text, and were added in python version {version_number}.\"\n",
    "print(s4)"
   ]
  },
  {
   "cell_type": "markdown",
   "metadata": {
    "slideshow": {
     "slide_type": "slide"
    }
   },
   "source": [
    "## Strings have some useful operators and methods."
   ]
  },
  {
   "cell_type": "code",
   "execution_count": null,
   "metadata": {},
   "outputs": [],
   "source": [
    "# You can multiply and add them:\n",
    "s1=\"abcde|\" * 3 + \"xyz\"\n",
    "print(\"s1:\", s1)\n",
    "# You can split them by some delimiter character:\n",
    "print(\"Split by | characters:\", s1.split(\"|\"))\n",
    "print(\"Converted to upper case:\", s1.upper())\n",
    "# Strings have a length:\n",
    "print(f\"s1 is {len(s1)} characters long.\")\n",
    "print(f\"s1 contains {s1.count('a')} a's\")"
   ]
  },
  {
   "cell_type": "markdown",
   "metadata": {},
   "source": [
    "For more on strings see the [Python Tutorial](https://docs.python.org/3.6/tutorial/introduction.html#strings) ."
   ]
  },
  {
   "cell_type": "markdown",
   "metadata": {
    "slideshow": {
     "slide_type": "slide"
    }
   },
   "source": [
    "## Lists\n",
    "\n",
    "* Ordered collection of 0 or more elements\n",
    "* Elements don't have to be unique\n",
    "* Elements can be various types, even other lists\n",
    "* Mutable (ie you can add and remove elements, change order, etc)\n",
    "* To create a list:\n",
    "  * **\\[** element1, element2, element3, ... **\\]** creates a new list\n",
    "  * list() turns its single argument into a list\n",
    "  * List comprehension - we'll get to this later\n",
    "* Pros - incredibly flexible. Cons - slow."
   ]
  },
  {
   "cell_type": "markdown",
   "metadata": {
    "slideshow": {
     "slide_type": "subslide"
    }
   },
   "source": [
    "## List operators"
   ]
  },
  {
   "cell_type": "code",
   "execution_count": null,
   "metadata": {
    "scrolled": true,
    "slideshow": {
     "slide_type": "-"
    }
   },
   "outputs": [],
   "source": [
    "# Lets create some lists:\n",
    "a1=['a','x','b','w','d','e']\n",
    "a2=list('z')\n",
    "print(f\"List a1 is: {a1}\")\n",
    "print(f\"List a2 is: {a2}\")\n",
    "# Lists have a length:\n",
    "print( f\"Length of a1 is {len(a1)}.\")\n",
    "# Some operators work on lists:\n",
    "print(f\"a1+a2={a1+a2}, a2*3={a2*3}\")\n",
    "# And some don't:\n",
    "print(f\"a1/2={a1/2}\")"
   ]
  },
  {
   "cell_type": "markdown",
   "metadata": {
    "slideshow": {
     "slide_type": "subslide"
    }
   },
   "source": [
    "## List objects have some methods"
   ]
  },
  {
   "cell_type": "code",
   "execution_count": null,
   "metadata": {
    "scrolled": true
   },
   "outputs": [],
   "source": [
    "l=['a','x','b','w','d','e']\n",
    "l.remove('a')\n",
    "print(\"With 'a' removed:\", l)\n",
    "l.sort()\n",
    "print(\"Sorted:\",l)\n",
    "l.reverse()\n",
    "print(\"Reversed:\",l)\n",
    "l.append('p')\n",
    "print(\"With 'p' appended:\",l)\n",
    "print(\"Last element (which has been removed):\", l.pop())\n",
    "print(\"First element (which has been removed):\", l.pop(0))"
   ]
  },
  {
   "cell_type": "markdown",
   "metadata": {},
   "source": [
    "For more on lists see the [Python Tutorial](https://docs.python.org/3.6/tutorial/datastructures.html#more-on-lists) ."
   ]
  },
  {
   "cell_type": "markdown",
   "metadata": {
    "slideshow": {
     "slide_type": "slide"
    }
   },
   "source": [
    "## Accessing sequence elements by index\n",
    "* Strings and lists are examples of **sequences**.\n",
    "* You can access one or more elements of a sequence with their index in square brackets: [ ]\n",
    "* Indexes range from 0 up to (sequence length - 1)\n",
    "* Negative indexes count backwards from the end: -1 is the last element, -2 the second from last, etc.\n",
    "* Within the brackets you can provide the [start:end+1:stepsize] where start defaults to 0, end+1 defaults to the end of the list, and stepsize defaults to 1."
   ]
  },
  {
   "cell_type": "code",
   "execution_count": null,
   "metadata": {},
   "outputs": [],
   "source": [
    "letters = ['a','b','c','d','e','f','g','h','i','j','k','l','m']\n",
    "print(letters, letters[0], letters[-1])\n",
    "print(letters[0:3])\n",
    "print(letters[3:12:2])"
   ]
  },
  {
   "cell_type": "markdown",
   "metadata": {
    "slideshow": {
     "slide_type": "slide"
    }
   },
   "source": [
    "## Functions\n",
    "Functions are reusable chunks of python code. They (usually) have a name, they can take 0 or more arguments, and they  return a value.<br>\n",
    "If you don't explicitly return a value, a function returns \"None\".\n",
    "This is the general lay-out of a function in Python:"
   ]
  },
  {
   "cell_type": "code",
   "execution_count": null,
   "metadata": {
    "scrolled": false
   },
   "outputs": [],
   "source": [
    "def test_function( argument1, argument2, argumentn=\"default_value\"):\n",
    "    \"This is the documentation string (or docstring) for the function\"\n",
    "    # The body of the function goes here:\n",
    "    print(\"Value of argument1:\",argument1)\n",
    "    print(\"Value of argument2:\",argument2)\n",
    "    print(\"Value of argumentn:\",argumentn)\n",
    "    \n",
    "x=test_function('a',2)\n",
    "print(\"test_function returned\",x)\n",
    "help(test_function)"
   ]
  },
  {
   "cell_type": "markdown",
   "metadata": {
    "slideshow": {
     "slide_type": "-"
    }
   },
   "source": [
    "\n",
    "* Function announced with the <font color=\"red\"><b>def</b></font> keyword\n",
    "* Followed by the function name\n",
    "* Followed by the argument list of 0 or more arguments in parentheses\n",
    "* <font color=\"green\"><b>Recommendation</b></font> :: use doc strings\n",
    "* Body of the function\n",
    "* Optional return of one or more values, e.g. \"return (value1,value2)\"\n",
    "* If there is no return statement then the function returns <font color=\"red\"><b>None</b></font>"
   ]
  },
  {
   "cell_type": "markdown",
   "metadata": {
    "slideshow": {
     "slide_type": "slide"
    }
   },
   "source": [
    "## Exercise: Hello World function\n",
    "In the following cell, create a function named hello_world() that takes no arguments. It should print \"Hello, World!\" when you call the function.\n",
    "Then, modify your function to take one optional argument that defaults to \"World\". If called without an argument your function should print \"Hello, World!\". If you pass a value to the function, for example \"Bob\", your function should print \"Hello, Bob!\"."
   ]
  },
  {
   "cell_type": "code",
   "execution_count": null,
   "metadata": {},
   "outputs": [],
   "source": []
  },
  {
   "cell_type": "markdown",
   "metadata": {
    "slideshow": {
     "slide_type": "slide"
    }
   },
   "source": [
    "## Flow control: the if / elif / else statement\n",
    "Its imperative that your code can branch depending on different situations that arise. The **if** statement lets you do this:"
   ]
  },
  {
   "cell_type": "code",
   "execution_count": null,
   "metadata": {},
   "outputs": [],
   "source": [
    "animal='dog'\n",
    "if animal == 'dog':\n",
    "    print(\"The animal is a dog.\")\n",
    "elif animal == 'cat':\n",
    "    print(\"The animal is a cat\")\n",
    "else:\n",
    "    print(\"The animal is neither dog nor cat!\")"
   ]
  },
  {
   "cell_type": "markdown",
   "metadata": {},
   "source": [
    "Both the `elif` and `else` clauses are optional. Note the white space before the `print` statements - that indentation is significant!"
   ]
  },
  {
   "cell_type": "markdown",
   "metadata": {
    "slideshow": {
     "slide_type": "slide"
    }
   },
   "source": [
    "## Return statement\n",
    "Frequently you want to return one or more values from a function back to the code that called it. To do this we use the **return** statement:"
   ]
  },
  {
   "cell_type": "raw",
   "metadata": {},
   "source": [
    "# Return a single value:\n",
    "return x\n",
    "# Return multiple values as a tuple (more on tuples later):\n",
    "return ( mean, std_deviation )\n",
    "# Return the outcome of a logical test as a True or False value:\n",
    "return x < 5"
   ]
  },
  {
   "cell_type": "markdown",
   "metadata": {},
   "source": [
    "For more on functions and the return statement see the [Python Tutorial](https://docs.python.org/3.6/tutorial/controlflow.html#defining-functions)."
   ]
  },
  {
   "cell_type": "markdown",
   "metadata": {
    "slideshow": {
     "slide_type": "slide"
    }
   },
   "source": [
    "## Exercise: Odd or Even function\n",
    "Create a function that takes one argument and returns the string \"odd\" or \"even\", depending on whether the argument is an odd number or an even number. Assume for now that the argument is a positive integer."
   ]
  },
  {
   "cell_type": "code",
   "execution_count": null,
   "metadata": {},
   "outputs": [],
   "source": []
  },
  {
   "cell_type": "markdown",
   "metadata": {
    "slideshow": {
     "slide_type": "slide"
    }
   },
   "source": [
    "## Anonymous functions (lambda expressions)\n",
    "Some statements take a function as an argument. **map()**, for example, applies a function to each element of a list:"
   ]
  },
  {
   "cell_type": "code",
   "execution_count": null,
   "metadata": {
    "scrolled": true
   },
   "outputs": [],
   "source": [
    "def divide_by_ten(x):\n",
    "    return x/10.0\n",
    "\n",
    "numbers = [0,1,2,3,4,5,6,7,8,9]\n",
    "tenths = list(map(divide_by_ten,numbers))\n",
    "print(numbers[0:5])\n",
    "print(tenths[0:5])"
   ]
  },
  {
   "cell_type": "markdown",
   "metadata": {},
   "source": [
    "But defining a new function for something so trivial, that I may only use once, is really klunky. So I can use \"lambda\" to create an anonymous function:"
   ]
  },
  {
   "cell_type": "code",
   "execution_count": null,
   "metadata": {
    "scrolled": true
   },
   "outputs": [],
   "source": [
    "numbers = [0,1,2,3,4,5,6,7,8,9]\n",
    "tenths = list( map( lambda x: x/10.0, numbers))\n",
    "print(numbers[0:5])\n",
    "print(tenths[0:5])"
   ]
  },
  {
   "cell_type": "markdown",
   "metadata": {
    "slideshow": {
     "slide_type": "subslide"
    }
   },
   "source": [
    "## You can assign a lambda expression to an identifier"
   ]
  },
  {
   "cell_type": "code",
   "execution_count": null,
   "metadata": {},
   "outputs": [],
   "source": [
    "divide_by_ten = lambda x: x/10.0\n",
    "divide_by_ten(3)"
   ]
  },
  {
   "cell_type": "markdown",
   "metadata": {},
   "source": [
    "Unlike functions defined with \"def\", lambda can only create \"one-liners\".\n",
    "\n",
    "More on lambda and anonymous functions in the [Python Tutorial](https://docs.python.org/3.6/tutorial/controlflow.html#lambda-expressions \"Python Tutorial\") ."
   ]
  },
  {
   "cell_type": "markdown",
   "metadata": {
    "slideshow": {
     "slide_type": "slide"
    }
   },
   "source": [
    "## File input / output (I/O)\n",
    "Its useful to read data from files, or write data to files. This is done through file objects, which are created using the `open()` function. Files can be opened for reading (\"r\"), writing (\"w\"), or appending (\"a\"):"
   ]
  },
  {
   "cell_type": "code",
   "execution_count": null,
   "metadata": {},
   "outputs": [],
   "source": [
    "input_file = open(\"popular_dog_names.txt\",\"r\")    # Open a file for reading.\n",
    "first_line = input_file.readline()                # Read one line.\n",
    "input_file.close()                                # Close the input file.\n",
    "print(f\"Read this data from the file: {first_line}\")\n",
    "output_file = open(\"tmpfile.txt\",\"w\")             # Open another file for writing. This erases the file if it exists.\n",
    "output_file.write(first_line)\n",
    "output_file.close()"
   ]
  },
  {
   "cell_type": "markdown",
   "metadata": {},
   "source": [
    "You can also read all the lines of a file into a list with input_file.readlines(). Careful! The file might be big!"
   ]
  },
  {
   "cell_type": "markdown",
   "metadata": {
    "slideshow": {
     "slide_type": "subslide"
    }
   },
   "source": [
    "## File I/O and the with statement\n",
    "A common pattern in Python is:\n",
    "> Try to open a file. <br>\n",
    "> If that worked, read from or write to the file. <br>\n",
    "> Close the file.\n",
    "\n",
    "This is so common that Python provides a statement to simplify this: `with`"
   ]
  },
  {
   "cell_type": "code",
   "execution_count": null,
   "metadata": {
    "scrolled": true
   },
   "outputs": [],
   "source": [
    "with open(\"popular_dog_names.txt\") as input_file:\n",
    "    all_lines = input_file.readlines()\n",
    "    print(f\"The file contains {len(all_lines)} lines of data.\")\n",
    "    print(f\"The first line is '{all_lines[0]}'\")\n",
    "    print(f\"The last line is '{all_lines[-1]}'\")"
   ]
  },
  {
   "cell_type": "markdown",
   "metadata": {},
   "source": [
    "At the end of the **with** clause the file is closed.\n",
    "\n",
    "You can use **with** for more than just file I/O. For all this to work, the object created in the **with** statement must have the methods **\\_\\_enter\\_\\_** and **\\_\\_exit\\_\\_**. See the documentation here: https://docs.python.org/3.7/reference/compound_stmts.html#with ."
   ]
  },
  {
   "cell_type": "markdown",
   "metadata": {
    "slideshow": {
     "slide_type": "slide"
    }
   },
   "source": [
    "## For loops\n",
    "For loops let you process each item in a sequence of items, for example each item in a list:"
   ]
  },
  {
   "cell_type": "code",
   "execution_count": null,
   "metadata": {
    "scrolled": true
   },
   "outputs": [],
   "source": [
    "for letter in [ 'a', 'e', 'i', 'o', 'u']:\n",
    "    print(letter)"
   ]
  },
  {
   "cell_type": "markdown",
   "metadata": {},
   "source": [
    "There are a number of other commands that work with for loops, which we will get to shortly."
   ]
  },
  {
   "cell_type": "markdown",
   "metadata": {
    "slideshow": {
     "slide_type": "slide"
    }
   },
   "source": [
    "## The range() function\n",
    "The `range(start,stop,[stepsize=1])` function returns a list-like object containing integers from start to stop-1. This is useful for all kinds of list processing and for-loop control:"
   ]
  },
  {
   "cell_type": "code",
   "execution_count": null,
   "metadata": {},
   "outputs": [],
   "source": [
    "element_names=['hydrogen','helium','lithium','berylium','boron','carbon','nitrogen','oxygen','fluorine']\n",
    "for i in range(0,len(element_names)):\n",
    "    print( f\"Item {i} in the list is {element_names[i]}.\")"
   ]
  },
  {
   "cell_type": "code",
   "execution_count": null,
   "metadata": {},
   "outputs": [],
   "source": [
    "# The stepsize defaults to 1 and the start value defaults to 0:\n",
    "print(list(range(3)))"
   ]
  },
  {
   "cell_type": "markdown",
   "metadata": {
    "slideshow": {
     "slide_type": "slide"
    }
   },
   "source": [
    "## Exercise: Factorial function\n",
    "Create a function named \"factorial\" that takes one argument, n, and returns n! (ie 1 * 2 * 3 * ... * (n-2) * (n-1) * n). This is easy to implement with a loop.<br>\n",
    "(You could also get fancy and write a recursive function, a function that calls itself. **If you do this** make sure your code tests when to end the recursion!)<br>\n",
    "For this exercise, you can assume that the argument is a positive integer. Write the factorial function, and try calling it with a few different positive integer values."
   ]
  },
  {
   "cell_type": "code",
   "execution_count": null,
   "metadata": {},
   "outputs": [],
   "source": []
  },
  {
   "cell_type": "markdown",
   "metadata": {
    "slideshow": {
     "slide_type": "slide"
    }
   },
   "source": [
    "## List comprehension\n",
    "For loops are handy for populating lists. Let's say we want a list of integers from 0 to 9 squared. You could write this:"
   ]
  },
  {
   "cell_type": "code",
   "execution_count": null,
   "metadata": {},
   "outputs": [],
   "source": [
    "squared_integers = []\n",
    "for i in range(0,10):\n",
    "    squared_integers.append( i * i )\n",
    "squared_integers"
   ]
  },
  {
   "cell_type": "markdown",
   "metadata": {},
   "source": [
    "But its easier to write this:"
   ]
  },
  {
   "cell_type": "code",
   "execution_count": null,
   "metadata": {},
   "outputs": [],
   "source": [
    "squared_integers = [ i * i for i in range(0,10) ]\n",
    "squared_integers"
   ]
  },
  {
   "cell_type": "markdown",
   "metadata": {},
   "source": [
    "This is \"list comprehension\".\n",
    "For more details see the [Python Tutorial](https://docs.python.org/3.6/tutorial/datastructures.html#list-comprehensions \"Python Tutorial\") ."
   ]
  },
  {
   "cell_type": "markdown",
   "metadata": {
    "slideshow": {
     "slide_type": "slide"
    }
   },
   "source": [
    "## Iterators\n",
    "For loops can iterate across a variety of objects, such as lists, open files, or range() objects. These objects are all iterators. More on iterators [here](https://docs.python.org/3.6/tutorial/classes.html#iterators \"Python Tutorial\")."
   ]
  },
  {
   "cell_type": "code",
   "execution_count": null,
   "metadata": {},
   "outputs": [],
   "source": [
    "vowel_list=['a','e','i','o','u']\n",
    "for letter in vowel_list:\n",
    "    print(letter)\n",
    "for number in range(0,5):\n",
    "    print(number)\n",
    "with open(\"popular_dog_names.txt\",\"r\") as dog_file:\n",
    "    for line in dog_file:\n",
    "        print(\"File:\",line.strip())"
   ]
  },
  {
   "cell_type": "markdown",
   "metadata": {
    "slideshow": {
     "slide_type": "slide"
    }
   },
   "source": [
    "## Exercise: Dog name finder\n",
    "The file \"popular_dog_names.txt\" lists the 10 most popular names for female and male dogs in 2016 (according to the [American Kennel Club](https://www.akc.org/expert-advice/news/popular-dog-names-2016/)). Write a function that accepts a proposed dog name, and checks the popular_dog_names.txt file to see if that name is popular. If it is, print that the proposed name is popular, its rank, and for what gender of dog. If the proposed name is not found, print that the name wasn't found."
   ]
  },
  {
   "cell_type": "code",
   "execution_count": null,
   "metadata": {},
   "outputs": [],
   "source": []
  },
  {
   "cell_type": "markdown",
   "metadata": {
    "slideshow": {
     "slide_type": "slide"
    }
   },
   "source": [
    "## Modules\n",
    "* Modules are files of python code (functions, classes, etc) whose names end in \".py\"\n",
    "* They are a great mechanism for code re-use\n",
    "* To use a module you must `import` it:"
   ]
  },
  {
   "cell_type": "code",
   "execution_count": null,
   "metadata": {},
   "outputs": [],
   "source": [
    "# Assume we want to use the cos function from the math module (within Python Standard Library)\n",
    "import math\n",
    "print(f\"The cosine of pi is: {math.cos(math.pi)}\")\n",
    "# Renaming the module name\n",
    "import math as m\n",
    "print(f\"Euler's constant e has the following value: {m.e}\")\n",
    "# We can also proceed as follows (rather dangerous)\n",
    "from math import sin, pi\n",
    "print(f\"The sine of pi/4 is: {sin(pi/4)}\")\n",
    "# And absolutely never do this:\n",
    "from math import *"
   ]
  },
  {
   "cell_type": "markdown",
   "metadata": {
    "slideshow": {
     "slide_type": "subslide"
    }
   },
   "source": [
    "## Where does python find the modules my code imports?\n",
    "* sys.path - list of directories that are searched for modules\n",
    "* This path is defined when python installed, and is augmented by PYTHONPATH environment variable"
   ]
  },
  {
   "cell_type": "code",
   "execution_count": null,
   "metadata": {
    "scrolled": false
   },
   "outputs": [],
   "source": [
    "import sys\n",
    "for directory in sys.path:\n",
    "    print(directory)"
   ]
  },
  {
   "cell_type": "markdown",
   "metadata": {
    "collapsed": true,
    "slideshow": {
     "slide_type": "subslide"
    }
   },
   "source": [
    "## The Python Standard Library\n",
    "* Extensive collection of modules that is installed with python\n",
    "* Most commonly used:\n",
    "    * sys, especially sys.argv (the list of command-line arguments)\n",
    "    * os, especially os.path (tools for manipulating file names)\n",
    "    * time (tools for getting and formatting the system time)\n",
    "    * math\n",
    "    * string\n",
    "* Documented here: https://docs.python.org/3.6/library/index.html"
   ]
  },
  {
   "cell_type": "markdown",
   "metadata": {
    "collapsed": true,
    "slideshow": {
     "slide_type": "subslide"
    }
   },
   "source": [
    "## What modules are available on my system?\n",
    "<code>\n",
    "help(\"modules\")\n",
    "</code>"
   ]
  },
  {
   "cell_type": "markdown",
   "metadata": {
    "slideshow": {
     "slide_type": "slide"
    }
   },
   "source": [
    "## Module or script?\n",
    "* Is a .py file a module that I import or a script that I run? It can be both.\n",
    "* Common practice: include test code in your modules\n",
    "* Has file been executed as script or imported as a module? The `__name__` variable."
   ]
  },
  {
   "cell_type": "raw",
   "metadata": {},
   "source": [
    "# Example module code:\n",
    "\n",
    "# Function definitions:\n",
    "# Maybe some class definitions:\n",
    "# Yada yada yada:\n",
    "\n",
    "if __name__ == \"__main__\":\n",
    "    # This .py file is getting executed as a script, not imported as a module.\n",
    "    execute_test_code_here()"
   ]
  },
  {
   "cell_type": "markdown",
   "metadata": {
    "slideshow": {
     "slide_type": "slide"
    }
   },
   "source": [
    "## Sets\n",
    "* A set is a collection of **unique** objects.\n",
    "* You can create sets with the **set()** command or with the **\\{** and **\\}** symbols.\n",
    "* You can also do set comprehensions.\n",
    "* Sets have all the methods and operators you'd expect: union, intersect, etc.\n",
    "* More on sets [here](https://docs.python.org/3/tutorial/datastructures.html#sets \"Python Tutorial\") ."
   ]
  },
  {
   "cell_type": "code",
   "execution_count": null,
   "metadata": {
    "scrolled": false
   },
   "outputs": [],
   "source": [
    "vowels = set(['a', 'e', 'i', 'o', 'u'])\n",
    "import random, string\n",
    "random_letters = { random.choice( string.ascii_lowercase) for i in range(20) }\n",
    "print( f\"The random_letters set contains {len(random_letters)} unique letters.\")\n",
    "print( f\"random_letters contains these vowels: {random_letters.intersection(vowels)}.\")\n",
    "print( f\"random_letters contains these consonants: {random_letters.difference(vowels)}.\")"
   ]
  },
  {
   "cell_type": "markdown",
   "metadata": {
    "slideshow": {
     "slide_type": "slide"
    }
   },
   "source": [
    "## Exercise: Password generator\n",
    "Write a function named random_password() that uses the string and random modules, and returns a string of 10 random letters, numbers, and symbols. If you want to get fancy, you could give your function an optional password length argument."
   ]
  },
  {
   "cell_type": "code",
   "execution_count": null,
   "metadata": {},
   "outputs": [],
   "source": []
  },
  {
   "cell_type": "markdown",
   "metadata": {
    "slideshow": {
     "slide_type": "slide"
    }
   },
   "source": [
    "## Tuples\n",
    "* Tuples are immutable ordered collections of objects\n",
    "* The objects can be of various types\n",
    "* You can create them with the **\\(** and **\\)** symbols, or with the tuple() command"
   ]
  },
  {
   "cell_type": "code",
   "execution_count": null,
   "metadata": {},
   "outputs": [],
   "source": [
    "days_of_the_week=('mon','tue','wed','thur','fri','sat','sun')\n",
    "print(f\"Day 6 is {days_of_the_week[6]}\")\n",
    "days_of_the_week[2]='hump_day'"
   ]
  },
  {
   "cell_type": "markdown",
   "metadata": {},
   "source": [
    "These are handy for returning multiple values from a function: `return ( mean + sd, mean - sd )`"
   ]
  },
  {
   "cell_type": "markdown",
   "metadata": {
    "slideshow": {
     "slide_type": "slide"
    }
   },
   "source": [
    "## While loops\n",
    "A while loop tests some logical condition, and executes the body of the loop while that condition evaluates to True:"
   ]
  },
  {
   "cell_type": "code",
   "execution_count": null,
   "metadata": {
    "scrolled": true
   },
   "outputs": [],
   "source": [
    "import random\n",
    "count = 0\n",
    "while random.random() < 0.98:\n",
    "    count+=1\n",
    "print(f\"Found {count} consecutive random numbers less than 0.98.\")"
   ]
  },
  {
   "cell_type": "markdown",
   "metadata": {
    "slideshow": {
     "slide_type": "slide"
    }
   },
   "source": [
    "## Flow control odds and ends: the continue statement\n",
    "Sometimes you want to skip the rest of the body of a loop, and **continue** with the next iteration:"
   ]
  },
  {
   "cell_type": "code",
   "execution_count": null,
   "metadata": {},
   "outputs": [],
   "source": [
    "import string\n",
    "consonants = set()\n",
    "vowels = set(['a','e','i','o','u'])\n",
    "for letter in string.ascii_lowercase:\n",
    "    if letter in vowels:\n",
    "        continue\n",
    "    consonants.add(letter)\n",
    "len(consonants)"
   ]
  },
  {
   "cell_type": "markdown",
   "metadata": {
    "slideshow": {
     "slide_type": "subslide"
    }
   },
   "source": [
    "## Flow control odds and ends: the break statement\n",
    "Sometimes you need to **break** out of a loop completely, before you've reached the last iteration:"
   ]
  },
  {
   "cell_type": "code",
   "execution_count": null,
   "metadata": {},
   "outputs": [],
   "source": [
    "i=100\n",
    "while i > 0:\n",
    "    print(i)\n",
    "    if i % 7 == 0:\n",
    "        break\n",
    "    i-=1\n",
    "print(f\"The biggest multiple of 7 less than 100 is {i}.\")"
   ]
  },
  {
   "cell_type": "markdown",
   "metadata": {
    "slideshow": {
     "slide_type": "slide"
    }
   },
   "source": [
    "## Flow control odds and ends: the pass statement\n",
    "Sometimes its convenient for a block of code to do nothing at all."
   ]
  },
  {
   "cell_type": "code",
   "execution_count": null,
   "metadata": {},
   "outputs": [],
   "source": [
    "for i in range(0,10):\n",
    "    if i % 3 == 0:\n",
    "        pass\n",
    "    else:\n",
    "        print(f\"Here's a number not divisible by 3: {i}\")"
   ]
  },
  {
   "cell_type": "markdown",
   "metadata": {
    "slideshow": {
     "slide_type": "slide"
    }
   },
   "source": [
    "## Dictionaries\n",
    "* A dictionary (also known as a \"hash\" or \"associative array\") is a collection of key:value pairs. \n",
    "* You can create dictionaries with the **dict()** command or with key:value pairs between the **\\{** and **\\}** symbols.\n",
    "* The keys must be unique. Keys and values can be of any type.\n",
    "* The lookup on a key is **extremely** fast."
   ]
  },
  {
   "cell_type": "code",
   "execution_count": null,
   "metadata": {
    "scrolled": true
   },
   "outputs": [],
   "source": [
    "elements = { 'H':'hydrogen', 'He':'helium', 'Li':'lithium', 'Be':'berylium'}\n",
    "elements['B'] = 'boron'\n",
    "print( f\"The element whose symbol is H is {elements['H']}.\")\n",
    "print( f\"Does the dictionary include carbon? {'C' in elements} .\")\n",
    "print( \"Here are the symbols:\", list(elements.keys()) )\n",
    "print( f\"The element name for symbol 'Po' is: {elements.get('Po','unknown')}.\")"
   ]
  },
  {
   "cell_type": "markdown",
   "metadata": {
    "slideshow": {
     "slide_type": "subslide"
    }
   },
   "source": [
    "## More dictionaries"
   ]
  },
  {
   "cell_type": "code",
   "execution_count": null,
   "metadata": {},
   "outputs": [],
   "source": [
    "print( f\"The element whose symbol is N is {elements['N']}.\")"
   ]
  },
  {
   "cell_type": "markdown",
   "metadata": {},
   "source": [
    "An attempt to access a missing key generates a KeyError exception. We'll learn about exception handling next.<br>\n",
    "For more on dictionaries see the [Python Tutorial](https://docs.python.org/3/tutorial/datastructures.html#dictionaries \"Python Tutorial\") ."
   ]
  },
  {
   "cell_type": "markdown",
   "metadata": {
    "slideshow": {
     "slide_type": "slide"
    }
   },
   "source": [
    "## Exercise: Improved Hello World function"
   ]
  },
  {
   "cell_type": "code",
   "execution_count": null,
   "metadata": {},
   "outputs": [],
   "source": [
    "# Revise this hello_world function so that it can greet you in several different languages. \n",
    "# Your function must accept one argument, which is the name of the language to use for the \n",
    "# greeting, and that argument should default to some language if no value is given. \n",
    "# Hint: this is a nice use case for a dictionary.\n",
    "def hello_world():\n",
    "    print(\"Hello, world!\")"
   ]
  },
  {
   "cell_type": "markdown",
   "metadata": {
    "slideshow": {
     "slide_type": "slide"
    }
   },
   "source": [
    "## Exercise: Bioinformatics! DNA to protein translation\n",
    "This exercise puts it all together: functions, strings, modules, and dictionaries. <br>\n",
    "The [genetic code](https://en.wikipedia.org/wiki/Genetic_code \"Wikipedia\") provides a mapping from the 4-letter alphabet of DNA (A, C, G, and T) to the 20-letter code of amino acids, that make up proteins. Three consecutive DNA \"letters\", called a codon, maps onto a single amino acid letter. For example, the DNA string \"ATG\" maps onto the amino acid letter \"M\". Using the provided module \"geneticcode.py\" which defines the genetic code as a dictionary named \"codons\", write a function that translates a DNA string to its amino acid sequence."
   ]
  },
  {
   "cell_type": "code",
   "execution_count": null,
   "metadata": {},
   "outputs": [],
   "source": [
    "# Here's a DNA sequence to translate:\n",
    "dna_sequence = \"ATGGAGGAGCCGCAGTCAGATCCTAGCGTCGAGCCC\"\n",
    "# Write a function that translates this into an amino acid sequence, using the codons dictionary from the \n",
    "# geneticcode module, and call your function with this sequence. This 36-letter DNA sequence should translate\n",
    "# into a 12-letter amino acid sequence."
   ]
  },
  {
   "cell_type": "code",
   "execution_count": null,
   "metadata": {},
   "outputs": [],
   "source": [
    "  "
   ]
  },
  {
   "cell_type": "markdown",
   "metadata": {
    "slideshow": {
     "slide_type": "slide"
    }
   },
   "source": [
    "## Exceptions\n",
    "When something goes wrong, python \"raises\" an exception object."
   ]
  },
  {
   "cell_type": "code",
   "execution_count": null,
   "metadata": {},
   "outputs": [],
   "source": [
    "# Depending on the value of 'symbol' this code might raise an exception:\n",
    "symbol='H'\n",
    "print(f\"The name of element {symbol} is {elements[symbol]}.\")\n",
    "# Rather than testing \"if symbol in elements\", just wrap the code in a try / except statement:\n",
    "symbol='S'\n",
    "try:\n",
    "    print(elements[symbol])\n",
    "except KeyError:\n",
    "    print( f\"Symbol {symbol} not found in elements dictionary!\")"
   ]
  },
  {
   "cell_type": "markdown",
   "metadata": {
    "slideshow": {
     "slide_type": "subslide"
    }
   },
   "source": [
    "## More exceptions\n",
    "You may not know what kind of exception to handle, so you can do it \"generically\":"
   ]
  },
  {
   "cell_type": "code",
   "execution_count": null,
   "metadata": {},
   "outputs": [],
   "source": [
    "try:\n",
    "    quotient = 17 / 0\n",
    "except Exception as e:\n",
    "    print(f\"Whoa, just caught unexpected exception: {type(e)},'{e}'!\")"
   ]
  },
  {
   "cell_type": "markdown",
   "metadata": {
    "slideshow": {
     "slide_type": "subslide"
    }
   },
   "source": [
    "## User-defined exceptions\n",
    "Python defines [lots of exceptions](https://docs.python.org/3.6/library/exceptions.html), but you can create your own too:"
   ]
  },
  {
   "cell_type": "code",
   "execution_count": null,
   "metadata": {},
   "outputs": [],
   "source": [
    "class MyException(Exception):\n",
    "    pass\n",
    "\n",
    "raise MyException(\"Something happened. Here's some information to help you sort it out.\")"
   ]
  },
  {
   "cell_type": "markdown",
   "metadata": {
    "slideshow": {
     "slide_type": "slide"
    }
   },
   "source": [
    "## Classes\n",
    "\n",
    "* A class is the definition of a data type.\n",
    "* **Every** object in Python belongs to a class.\n",
    "* Each class is a collection of data values and methods.\n",
    "* A single object that belongs to class is an 'instance' of that class.\n",
    "* Classes provide:\n",
    "  * a namespace inside which your code is isolated from outside complexity \n",
    "  * a mechanism for code reuse through inheritance"
   ]
  },
  {
   "cell_type": "markdown",
   "metadata": {
    "slideshow": {
     "slide_type": "subslide"
    }
   },
   "source": [
    "## Class example"
   ]
  },
  {
   "cell_type": "code",
   "execution_count": null,
   "metadata": {},
   "outputs": [],
   "source": [
    "class Person():\n",
    "    \"This class represents a person. (This is the docstring for the whole class.)\"\n",
    "    def __init__(self,first_name,last_name,year_of_birth):\n",
    "        \"Constructor method of the class Person. (This is the docstring for this method.)\"\n",
    "        self.fname = first_name\n",
    "        self.lname = last_name\n",
    "        self.year_born = year_of_birth\n",
    "\n",
    "p = Person(\"Brett\",\"Milash\",1962) # Creating an instance of class Person by calling the Person() function.\n",
    "print(p.fname)\n",
    "print(p)\n",
    "print(type(p))"
   ]
  },
  {
   "cell_type": "markdown",
   "metadata": {
    "slideshow": {
     "slide_type": "subslide"
    }
   },
   "source": [
    "## Special class methods\n",
    "Objects have a variety of special methods that are called behind the scenes:\n",
    "* `__init__()`: class constructor\n",
    "* `__str__()`: string representation of object\n",
    "* `__lt__()`: object comparisons for sorting\n",
    "* `__del__()`: class deconstructor. Called during garbage collection, or at 'del *variable*'\n",
    "* `__enter__()`: Context manager enter function, used by **with** statement\n",
    "* `__exit__()`: Conect manager exit function, used by **with** statement\n",
    "\n",
    "`__enter__` and `__exit__` are not provided for you - you need to write these if you intend to use your object in a **with** statement.\n",
    "\n",
    "These methods are all detailed here: https://docs.python.org/3.7/reference/datamodel.html#special-method-names"
   ]
  },
  {
   "cell_type": "code",
   "execution_count": null,
   "metadata": {
    "slideshow": {
     "slide_type": "subslide"
    }
   },
   "outputs": [],
   "source": [
    "import time\n",
    "\n",
    "class Person():\n",
    "    \"Here's a more fleshed-out Person example.\"\n",
    "    def __init__(self,fname=\"\",lname=\"\",year_of_birth=0):\n",
    "        \"Constructor of the class Person\"\n",
    "        self.fname = fname\n",
    "        self.lname = lname\n",
    "        self.year_born = year_of_birth\n",
    "\n",
    "    def __str__(self):\n",
    "        return f\"{self.lname}, {self.fname}: born {self.year_born}\"\n",
    "\n",
    "    def __lt__(self,other):\n",
    "        return self.lname < other.lname\n",
    "    \n",
    "    def age(self):\n",
    "        \"Returns person's age in years\"\n",
    "        current_year= time.localtime( time.time() ).tm_year\n",
    "        return current_year - self.year_born\n",
    "\n",
    "rockstars = [ Person(\"Lou\",\"Reed\",1942), Person(\"Iggy\",\"Pop\",1947), Person(\"David\",\"Bowie\",1947), ]\n",
    "rockstars.sort()\n",
    "for musician in rockstars:\n",
    "    print(f\"{musician}, age {musician.age()} years\")"
   ]
  },
  {
   "cell_type": "markdown",
   "metadata": {
    "slideshow": {
     "slide_type": "subslide"
    }
   },
   "source": [
    "## Inheritance\n",
    "- Inheritance lets you create a new class inheriting data and methods from an existing class.\n",
    "- This new class is a \"child\" class derived from a \"parent\" class.\n",
    "- Parent classes are also called \"base\" classes.\n",
    "- You can add or replace methods and data values of the parent class in the child class.\n",
    "- Child class can be derived from one (single inheritance) or several (multiple inheritance) base classes."
   ]
  },
  {
   "cell_type": "markdown",
   "metadata": {
    "slideshow": {
     "slide_type": "subslide"
    }
   },
   "source": [
    "## Inheritance example"
   ]
  },
  {
   "cell_type": "code",
   "execution_count": null,
   "metadata": {
    "scrolled": true
   },
   "outputs": [],
   "source": [
    "class Student(Person):\n",
    "    \"A Student is a Person with a GPA.\"\n",
    "    def __init__(self,fname,lname,year_born,grade_point_average):\n",
    "        Person.__init__(self,fname,lname,year_born) # Calling the parent class constructor.\n",
    "        self.gpa = grade_point_average\n",
    "\n",
    "    def __str__(self):\n",
    "        return f\"{self.lname}, {self.fname}: born {self.year_born}, GPA {self.gpa}\"\n",
    "\n",
    "s = Student(\"Joe\",\"Smith\",1981,3.65)\n",
    "print(s)\n",
    "print(f\"{s.fname} is {s.age()} years old.\")"
   ]
  },
  {
   "cell_type": "markdown",
   "metadata": {
    "slideshow": {
     "slide_type": "subslide"
    }
   },
   "source": [
    "## Another inheritance example"
   ]
  },
  {
   "cell_type": "code",
   "execution_count": null,
   "metadata": {
    "scrolled": true
   },
   "outputs": [],
   "source": [
    "class MyException(Exception):\n",
    "    pass\n",
    "\n",
    "raise MyException(\"Something happened. Here's some information to help you sort it out.\")"
   ]
  },
  {
   "cell_type": "markdown",
   "metadata": {
    "slideshow": {
     "slide_type": "subslide"
    }
   },
   "source": [
    "## The python standard library and inheritance\n",
    "The python standard library includes many modules that define base classes from which you derive new classes:\n",
    "* thread\n",
    "* xml.sax (XML parser)\n",
    "* html.parser\n",
    "* httpserver\n",
    "* unittest\n",
    "* Exception"
   ]
  },
  {
   "cell_type": "markdown",
   "metadata": {
    "slideshow": {
     "slide_type": "subslide"
    }
   },
   "source": [
    "## Exercise: classes and inheritance\n",
    "1. In the cell below, create a class named Dog that describes dogs. The constructor (\\_\\_init\\_\\_) should take one argument in addition to self: the dog's name. The class should implement one additional method, which is \"speak()\". The speak() method should **return** some dog-appropriate sound e.g. \"Arf!\". \n",
    "2. Derive a Poodle class from the Dog class such that instances of the Poodle class make a more poodle-appropriate sound, e.g. \"Yip!\".\n",
    "3. Create a list with several instances of both the Dog and the Poodle class, and then iterate through the list printing their names and the return value of the speak() method.\n",
    "\n",
    "Hint: get the code working just with the Dog class. Then, add the Poodle class."
   ]
  },
  {
   "cell_type": "code",
   "execution_count": null,
   "metadata": {},
   "outputs": [],
   "source": []
  },
  {
   "cell_type": "markdown",
   "metadata": {
    "slideshow": {
     "slide_type": "slide"
    }
   },
   "source": [
    "## Programming advice\n",
    "* Don't rely on the operating system's python. Its old, and you don't control it.\n",
    "    * At CHPC load a python module, e.g. \"module load python/3.7.3\".\n",
    "    * Or install your own with anaconda or miniconda.\n",
    "* Use python 3. Python 2 support ended 1/1/2020. https://pythonclock.org/\n",
    "* When editing, save early and save often.\n",
    "* Back your code up with [git](https://www.chpc.utah.edu/documentation/software/git-scm.php) locally, and ideally into a remote software repository.\n",
    "* Write test code, use [assert()](https://docs.python.org/3.6/reference/simple_stmts.html?highlight=assert#the-assert-statement \"Python Docs\"), and learn to use [coverage.py](https://coverage.readthedocs.io/en/v4.5.x/).\n",
    "* Learn to use a debugger ([pdb](https://docs.python.org/3/library/pdb.html), [PyCharm](https://www.jetbrains.com/pycharm/), [IDLE](https://docs.python.org/3.6/library/idle.html)) - much quicker than print() statements!"
   ]
  },
  {
   "cell_type": "markdown",
   "metadata": {
    "slideshow": {
     "slide_type": "slide"
    }
   },
   "source": [
    "## Resources:\n",
    "* Python Tutorial: https://docs.python.org/3.6/tutorial/index.html\n",
    "* Python Standard Library: https://docs.python.org/3.6/library/index.html\n",
    "\n",
    "## Questions?\n",
    "* brett.milash@utah.edu\n",
    "* wim.cardoen@utah.edu\n",
    "* helpdesk@chpc.utah.edu\n",
    "\n",
    "## Have fun coding, and thank you for coming!"
   ]
  }
 ],
 "metadata": {
  "kernelspec": {
   "display_name": "Python 3",
   "language": "python",
   "name": "python3"
  },
  "language_info": {
   "codemirror_mode": {
    "name": "ipython",
    "version": 3
   },
   "file_extension": ".py",
   "mimetype": "text/x-python",
   "name": "python",
   "nbconvert_exporter": "python",
   "pygments_lexer": "ipython3",
   "version": "3.7.3"
  }
 },
 "nbformat": 4,
 "nbformat_minor": 2
}
