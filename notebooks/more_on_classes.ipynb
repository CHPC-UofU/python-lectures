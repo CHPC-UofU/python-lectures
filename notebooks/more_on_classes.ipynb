{
 "cells": [
  {
   "cell_type": "markdown",
   "metadata": {},
   "source": [
    "# More on classes"
   ]
  },
  {
   "cell_type": "markdown",
   "metadata": {},
   "source": [
    "## Exercise: Circle class"
   ]
  },
  {
   "cell_type": "markdown",
   "metadata": {},
   "source": [
    "Create a class named Circle that represents a circle. The class constructor should take 3 arguments: \n",
    "* the x coordinate of the center\n",
    "* the y coordinate of the center\n",
    "* the circle's radius. \n",
    "\n",
    "Your Circle class needs 3 additional methods: \n",
    "* Contains(x,y) returns True or False depending on whether the circle contains point (x,y).\n",
    "* Center() returns the (x,y) coordinates of the center as a tuple.\n",
    "* Radius() returns the radius of the circle.\n",
    "\n",
    "There is a solution at the bottom of the page."
   ]
  },
  {
   "cell_type": "code",
   "execution_count": null,
   "metadata": {},
   "outputs": [],
   "source": [
    "# Write your circle class solution here:"
   ]
  },
  {
   "cell_type": "code",
   "execution_count": null,
   "metadata": {
    "scrolled": true
   },
   "outputs": [],
   "source": [
    "# Here is some test code. Your Circle class should pass all the tests.\n",
    "def test_circle_class():\n",
    "    \"Tests whether the Circle class is working.\"\n",
    "    c = Circle(0.0, 0.0, 1.0)\n",
    "    tests = [\n",
    "        ( 0.0, 0.0, True),\n",
    "        ( 1.0, 0.0, True),\n",
    "        ( 2.0, 0.0, False),\n",
    "        ( 1.1, 0.0, False),\n",
    "        ( 0.0, 1.0, True),\n",
    "        ( -2.0, -2.0, False),\n",
    "    ]\n",
    "    yes_or_no = { True: 'yes', False: 'no'}\n",
    "    correct_or_not = { True: 'correct!', False: 'failed!'}\n",
    "    # Test the Center method.\n",
    "    print(f\"Testing Center(): {correct_or_not[c.Center()==(0.0,0.0)]}\")\n",
    "    # Test the Radius method:\n",
    "    print(f\"Testing Radius(): {correct_or_not[c.Radius()==1.0]}\")\n",
    "    # Test the Contains method.\n",
    "    for (x,y,result) in tests:\n",
    "        contains = c.Contains(x,y)\n",
    "        correct = (contains == result)\n",
    "        print(f\"Testing if ({x},{y}) is in the circle ... {yes_or_no[contains]}, {correct_or_not[correct]}\",)\n",
    "\n",
    "test_circle_class()\n",
    "#help(Circle)"
   ]
  },
  {
   "cell_type": "markdown",
   "metadata": {},
   "source": [
    "If you wrote the class correctly, then the following code should draw some circles:"
   ]
  },
  {
   "cell_type": "code",
   "execution_count": null,
   "metadata": {
    "scrolled": false
   },
   "outputs": [],
   "source": [
    "import random\n",
    "import matplotlib.pyplot as plt\n",
    "\n",
    "# Generate some random circles using the Circle class provided above:\n",
    "random_circles={ Circle(random.random(),random.random(),random.random()/3.0) for i in range(10) }\n",
    "\n",
    "# Using example code from https://www.geeksforgeeks.org/how-to-draw-a-circle-using-matplotlib-in-python/ to\n",
    "# plot some circles:\n",
    "figure, axes = plt.subplots()\n",
    "axes.set_aspect( 1 )\n",
    "\n",
    "# Demonstrating use of matplotlib.patches.Circle() function to plot an un-colored Circle\n",
    "for c in random_circles:\n",
    "    axes.add_artist( plt.Circle( c.Center(),c.Radius() ,fill = False ) )\n",
    "\n",
    "# Add some points.\n",
    "symbols=[\"b*\",\"m*\",\"r*\",\"y*\",\"g*\",\"c*\"]\n",
    "for i in range(100):\n",
    "    (x,y) = (random.random(),random.random())\n",
    "    count_containing_circles=0\n",
    "    for c in random_circles:\n",
    "        if c.Contains(x,y):\n",
    "            count_containing_circles+=1\n",
    "    try:\n",
    "        plt.plot(x,y,symbols[count_containing_circles])\n",
    "    except IndexError:\n",
    "        plt.plot(x,y,symbols[-1])\n",
    "plt.title( 'Circles' )\n",
    "print(plt.show())"
   ]
  },
  {
   "cell_type": "markdown",
   "metadata": {},
   "source": [
    "## More on iterators\n",
    "We discussed using iterators earlier. To create a new class that is an iterator, the class must have two specific methods: \\__iter__() and \\__next__()."
   ]
  },
  {
   "cell_type": "code",
   "execution_count": null,
   "metadata": {
    "scrolled": true
   },
   "outputs": [],
   "source": [
    "class Fibonacci:\n",
    "    \"Generates a Fibonacci sequence.\"\n",
    "    def __init__(self):\n",
    "        self.current_value=0\n",
    "        self.next_value=1\n",
    "    \n",
    "    def __iter__(self):\n",
    "        \"__iter__ must return self - that's it.\"\n",
    "        return self\n",
    "    \n",
    "    def __next__(self):\n",
    "        \"__next__() must return the next value produced by the iterator.\"\n",
    "        value_to_be_returned = self.current_value\n",
    "        self.current_value = self.next_value\n",
    "        self.next_value = value_to_be_returned + self.current_value\n",
    "        return value_to_be_returned\n",
    "\n",
    "fibonacci_sequence = Fibonacci()\n",
    "for value in fibonacci_sequence:\n",
    "    print(value)\n",
    "    if value > 100:\n",
    "        break\n",
    "        "
   ]
  },
  {
   "cell_type": "markdown",
   "metadata": {},
   "source": [
    "More on iterators here: https://docs.python.org/3.7/library/stdtypes.html#iterator-types."
   ]
  },
  {
   "cell_type": "markdown",
   "metadata": {},
   "source": [
    "This can also be implemented as a \"generator\" using the yield keyword:"
   ]
  },
  {
   "cell_type": "code",
   "execution_count": null,
   "metadata": {},
   "outputs": [],
   "source": [
    "def fibonacci_sequence():\n",
    "    \"fibonacci_sequence is a generator the produces the Fibonacci sequence.\"\n",
    "    current_value = 0\n",
    "    next_value = 1\n",
    "    while True:\n",
    "        yield current_value\n",
    "        next_next_value = current_value + next_value\n",
    "        current_value = next_value\n",
    "        next_value = next_next_value\n",
    "\n",
    "for value in fibonacci_sequence():\n",
    "    print(value)\n",
    "    if value > 100:\n",
    "        break"
   ]
  },
  {
   "cell_type": "markdown",
   "metadata": {},
   "source": [
    "More on generators here: https://docs.python.org/3.7/library/stdtypes.html#generator-types"
   ]
  },
  {
   "cell_type": "code",
   "execution_count": null,
   "metadata": {},
   "outputs": [],
   "source": [
    "# Here is a solution to the Circle class exercise.\n",
    "import math\n",
    "\n",
    "class Circle:\n",
    "    \"\"\"Circle represents a circle.\n",
    "    The arguments to the constructor are:\n",
    "    x: x-coordinate of the center\n",
    "    y: y-coordinate of the center\n",
    "    r: radius\"\"\"\n",
    "    def __init__(self,x,y,r):\n",
    "        self.center_x=x\n",
    "        self.center_y=y\n",
    "        self.radius=r\n",
    "    \n",
    "    def Contains(self,x,y):\n",
    "        \"Contains(x,y) returns True if the point (x,y) is within the circle, False otherwise.\"\n",
    "        return math.sqrt((self.center_x-x)**2 + (self.center_y-y)**2) <= self.radius\n",
    "    \n",
    "    def Center(self):\n",
    "        \"Center returns the (x,y) coordinates of the circle's center as a tuple.\"\n",
    "        return (self.center_x,self.center_y)\n",
    "    \n",
    "    def Radius(self):\n",
    "        \"Radius returns the circle's radius.\"\n",
    "        return self.radius"
   ]
  }
 ],
 "metadata": {
  "kernelspec": {
   "display_name": "Python 3",
   "language": "python",
   "name": "python3"
  },
  "language_info": {
   "codemirror_mode": {
    "name": "ipython",
    "version": 3
   },
   "file_extension": ".py",
   "mimetype": "text/x-python",
   "name": "python",
   "nbconvert_exporter": "python",
   "pygments_lexer": "ipython3",
   "version": "3.7.3"
  }
 },
 "nbformat": 4,
 "nbformat_minor": 2
}
